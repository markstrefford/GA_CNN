{
 "cells": [
  {
   "cell_type": "code",
   "execution_count": null,
   "id": "cosmetic-equality",
   "metadata": {},
   "outputs": [],
   "source": [
    "%load_ext autoreload\n",
    "%autoreload 2\n",
    "%matplotlib inline"
   ]
  },
  {
   "cell_type": "markdown",
   "id": "special-germany",
   "metadata": {},
   "source": [
    "# Genetic Algorithm for Designing a CNN for MPII Dataset\n",
    "Based on ideas found in:\n",
    "    \n",
    "* https://arxiv.org/pdf/1611.01578.pdf?fbclid=IwAR1YvzhJ_l3tYuHKCRl96UCyKsJc956CipC5FGoVzs0DIIPQNpptjHN6nOM\n",
    "* https://github.com/PacktPublishing/Hands-On-Genetic-Algorithms-with-Python\n",
    "* https://github.com/ahmedfgad/GeneticAlgorithmPython\n",
    "\n",
    "Written by Mark Strefford\n",
    "\n",
    "MIT License\n",
    "\n",
    "Copyright © 2021 Timelaps AI Limited\n",
    "\n",
    "Permission is hereby granted, free of charge, to any person obtaining a copy of this software and associated documentation files (the “Software”), to deal in the Software without restriction, including without limitation the rights to use, copy, modify, merge, publish, distribute, sublicense, and/or sell copies of the Software, and to permit persons to whom the Software is furnished to do so, subject to the following conditions:\n",
    "\n",
    "The above copyright notice and this permission notice shall be included in all copies or substantial portions of the Software.\n",
    "\n",
    "THE SOFTWARE IS PROVIDED “AS IS”, WITHOUT WARRANTY OF ANY KIND, EXPRESS OR IMPLIED, INCLUDING BUT NOT LIMITED TO THE WARRANTIES OF MERCHANTABILITY, FITNESS FOR A PARTICULAR PURPOSE AND NONINFRINGEMENT. IN NO EVENT SHALL THE AUTHORS OR COPYRIGHT HOLDERS BE LIABLE FOR ANY CLAIM, DAMAGES OR OTHER LIABILITY, WHETHER IN AN ACTION OF CONTRACT, TORT OR OTHERWISE, ARISING FROM, OUT OF OR IN CONNECTION WITH THE SOFTWARE OR THE USE OR OTHER DEALINGS IN THE SOFTWARE."
   ]
  },
  {
   "cell_type": "markdown",
   "id": "residential-factory",
   "metadata": {},
   "source": [
    "* Checkpoint file"
   ]
  },
  {
   "cell_type": "code",
   "execution_count": null,
   "id": "grave-lithuania",
   "metadata": {},
   "outputs": [],
   "source": [
    "checkpoint = None"
   ]
  },
  {
   "cell_type": "code",
   "execution_count": null,
   "id": "furnished-income",
   "metadata": {},
   "outputs": [],
   "source": [
    "import sys\n",
    "sys.path.append('../lib')\n"
   ]
  },
  {
   "cell_type": "code",
   "execution_count": null,
   "id": "stuffed-texas",
   "metadata": {},
   "outputs": [],
   "source": [
    "import tensorflow as tf\n",
    "# config = tf.compat.v1.ConfigProto(gpu_options =\n",
    "#                          tf.compat.v1.GPUOptions(per_process_gpu_memory_fraction=0.8)\n",
    "# # device_count = {'GPU': 1}\n",
    "# )\n",
    "# config.gpu_options.allow_growth = True\n",
    "# session = tf.compat.v1.Session(config=config)\n",
    "# tf.compat.v1.keras.backend.set_session(session)"
   ]
  },
  {
   "cell_type": "code",
   "execution_count": null,
   "id": "bored-wholesale",
   "metadata": {},
   "outputs": [],
   "source": [
    "import tensorflow as tf\n",
    "\n",
    "from objproxies import CallbackProxy\n",
    "from deap import base, creator, tools\n",
    "\n",
    "import random\n",
    "import numpy as np\n",
    "import pandas as pd\n",
    "import logging"
   ]
  },
  {
   "cell_type": "code",
   "execution_count": null,
   "id": "accomplished-gasoline",
   "metadata": {},
   "outputs": [],
   "source": [
    "from ga_net.train import Trainer\n",
    "from core.config import config, update_config\n",
    "from utils.utils import create_logger\n",
    "from ga import elitism"
   ]
  },
  {
   "cell_type": "code",
   "execution_count": null,
   "id": "disabled-lightweight",
   "metadata": {},
   "outputs": [],
   "source": [
    "# import dataset\n",
    "from dataset import mpii"
   ]
  },
  {
   "cell_type": "markdown",
   "id": "reduced-switzerland",
   "metadata": {},
   "source": [
    "* Config"
   ]
  },
  {
   "cell_type": "code",
   "execution_count": null,
   "id": "metropolitan-progressive",
   "metadata": {},
   "outputs": [],
   "source": [
    "cfg_name = '../config/watch_ar/ga_cnn/regressor_256x256_d256x3_adam_lr1e-3.yaml'\n",
    "update_config(cfg_name)\n",
    "\n",
    "# Required for running in notebook?\n",
    "config.DATASET.PATH_PREFIX = '../'\n",
    "\n",
    "logger, output_dir, tb_log_dir = create_logger(\n",
    "        config, cfg_name, 'train')\n",
    "logger = logging.getLogger(__name__)"
   ]
  },
  {
   "cell_type": "markdown",
   "id": "infinite-contract",
   "metadata": {},
   "source": [
    "### Define a set of basic layers and config\n",
    "\n",
    "Image sizes defined in NHWC format for tf.js"
   ]
  },
  {
   "cell_type": "code",
   "execution_count": null,
   "id": "atlantic-webmaster",
   "metadata": {},
   "outputs": [],
   "source": [
    "input_shape = (256, 256, 3)\n",
    "\n",
    "# output_layer_config = [\n",
    "#         {'name': 'coords_output', 'features': 15, 'activation': 'tanh', 'loss': 'EuclideanLoss'},\n",
    "#         {'name': 'rotation_output', 'features': 3, 'activation': 'linear', 'loss': 'MSE'},\n",
    "#         {'name': 'flags_output', 'features': 6, 'activation': 'sigmoid', 'loss': '\"BinaryCrossentropy\"'}\n",
    "#     ]\n",
    "\n",
    "output_layer_config = [\n",
    "        {'name': 'joints_output', \n",
    "         'features': 16 * 3, \n",
    "         'activation': 'tanh', \n",
    "         'loss': 'EuclideanLoss'},\n",
    "        {'name': 'joints_vis_output', \n",
    "         'features': 16, \n",
    "         'activation': 'sigmoid', \n",
    "         'loss': '\"BinaryCrossentropy\"'}\n",
    "    ]"
   ]
  },
  {
   "cell_type": "code",
   "execution_count": null,
   "id": "hairy-appendix",
   "metadata": {},
   "outputs": [],
   "source": [
    "POPULATION_SIZE = 20  \n",
    "MAX_GENERATIONS = 500\n",
    "P_CROSSOVER = 0.5  # probability for crossover\n",
    "P_MUTATION = 0.5   # probability for mutating an individual\n",
    "HALL_OF_FAME_SIZE = 5\n",
    "CROWDING_FACTOR = 10.0  # crowding factor for crossover and mutation\n",
    "\n",
    "# From https://stackoverflow.com/questions/58990269/deap-make-mutation-probability-depend-on-generation-number\n",
    "N_GEN = 1          # Generation counter for mutation\n",
    "N_EVALS = 0        # Used for changing N_GEN? "
   ]
  },
  {
   "cell_type": "code",
   "execution_count": null,
   "id": "federal-error",
   "metadata": {},
   "outputs": [],
   "source": [
    "NUM_LAYERS = 32         # Excluding output layers\n",
    "NUM_OUTPUT_LAYERS = len(output_layer_config)    # Coords, rotation, flags\n",
    "\n",
    "LAYER_TYPES = ['DepthwiseConv2D', 'Conv2D', 'Conv2DTranspose']   # 'Dense' etc?\n",
    "LAYER_TYPE_LOWER = 0.\n",
    "LAYER_TYPE_UPPER = float(len(LAYER_TYPES))"
   ]
  },
  {
   "cell_type": "code",
   "execution_count": null,
   "id": "entire-reputation",
   "metadata": {},
   "outputs": [],
   "source": [
    "FILTER_LOWER_BOUND = 4.\n",
    "FILTER_UPPER_BOUND = 7.   # 2^4 = 16, but note padding & concat will grow this!\n",
    "KERNEL_LOWER_BOUND = 1.\n",
    "KERNEL_UPPER_BOUND = 3.\n",
    "STRIDE_LOWER_BOUND = 1.\n",
    "STRIDE_UPPER_BOUND = 2.\n",
    "INBOUND_CONN_LOWER_BOUND = float(-NUM_LAYERS / 2)   # Force some nodes not to have all links!\n",
    "INBOUND_CONN_UPPER_BOUND = float(NUM_LAYERS + NUM_OUTPUT_LAYERS)\n",
    "NUM_SKIP_CONNECTIONS = 2 "
   ]
  },
  {
   "cell_type": "code",
   "execution_count": null,
   "id": "painted-arena",
   "metadata": {},
   "outputs": [],
   "source": [
    "RANDOM_SEED = 42\n",
    "random.seed(RANDOM_SEED)"
   ]
  },
  {
   "cell_type": "code",
   "execution_count": null,
   "id": "architectural-increase",
   "metadata": {},
   "outputs": [],
   "source": [
    "gpus = tf.config.experimental.list_physical_devices('GPU')\n",
    "if gpus:\n",
    "  # Restrict TensorFlow to only allocate 4GB of memory on the first GPU\n",
    "  try:\n",
    "    tf.config.experimental.set_virtual_device_configuration(\n",
    "        gpus[0],\n",
    "        [tf.config.experimental.VirtualDeviceConfiguration(memory_limit=7*1024)])\n",
    "    logical_gpus = tf.config.experimental.list_logical_devices('GPU')\n",
    "    print(len(gpus), \"Physical GPUs,\", len(logical_gpus), \"Logical GPUs\")\n",
    "  except RuntimeError as e:\n",
    "    # Virtual devices must be set before GPUs have been initialized\n",
    "    print(e)"
   ]
  },
  {
   "cell_type": "markdown",
   "id": "funded-officer",
   "metadata": {},
   "source": [
    "* Set up dataset for training"
   ]
  },
  {
   "cell_type": "code",
   "execution_count": null,
   "id": "endless-straight",
   "metadata": {},
   "outputs": [],
   "source": [
    "is_gpu = tf.config.list_physical_devices('GPU') != []\n",
    "dataset = mpii.MPIIDataset(\n",
    "    config,\n",
    "    is_train=True,\n",
    "    random_order=True,\n",
    "    random_seed=RANDOM_SEED,\n",
    "    batch_size=1   # 4 if is_gpu else 1  \n",
    ")\n",
    "print(f'GPU found = {is_gpu}')"
   ]
  },
  {
   "cell_type": "code",
   "execution_count": null,
   "id": "vietnamese-romania",
   "metadata": {},
   "outputs": [],
   "source": [
    "tf.config.list_physical_devices('GPU')"
   ]
  },
  {
   "cell_type": "code",
   "execution_count": null,
   "id": "micro-cancer",
   "metadata": {},
   "outputs": [],
   "source": [
    "tf.config.experimental.list_logical_devices('GPU')"
   ]
  },
  {
   "cell_type": "markdown",
   "id": "lucky-oxford",
   "metadata": {},
   "source": [
    "### Setup GA"
   ]
  },
  {
   "cell_type": "code",
   "execution_count": null,
   "id": "facial-quarter",
   "metadata": {},
   "outputs": [],
   "source": [
    "BOUNDS_LOW = []\n",
    "BOUNDS_HIGH = []\n",
    "\n",
    "for i in range(int(NUM_LAYERS)):\n",
    "    BOUNDS_LOW.append(LAYER_TYPE_LOWER)\n",
    "    BOUNDS_LOW.append(FILTER_LOWER_BOUND)\n",
    "    BOUNDS_LOW.append(KERNEL_LOWER_BOUND)\n",
    "    BOUNDS_LOW.append(STRIDE_LOWER_BOUND)\n",
    "    BOUNDS_HIGH.append(len(LAYER_TYPES) - 1)\n",
    "    BOUNDS_HIGH.append(FILTER_UPPER_BOUND)\n",
    "    BOUNDS_HIGH.append(KERNEL_UPPER_BOUND)\n",
    "    BOUNDS_HIGH.append(STRIDE_UPPER_BOUND)\n",
    "    for j in range (NUM_SKIP_CONNECTIONS):\n",
    "        BOUNDS_LOW.append(INBOUND_CONN_LOWER_BOUND)   \n",
    "        BOUNDS_HIGH.append(INBOUND_CONN_UPPER_BOUND)\n",
    "        \n",
    "NUM_OF_PARAMS = len(BOUNDS_HIGH)\n",
    "NUM_CHROMOSOMES = int(NUM_OF_PARAMS / NUM_LAYERS)"
   ]
  },
  {
   "cell_type": "code",
   "execution_count": null,
   "id": "broke-commissioner",
   "metadata": {},
   "outputs": [],
   "source": [
    "toolbox = base.Toolbox()\n",
    "creator.create(\"FitnessMax\", base.Fitness, weights=(1.0,))\n",
    "creator.create(\"Individual\", list, fitness=creator.FitnessMax)"
   ]
  },
  {
   "cell_type": "code",
   "execution_count": null,
   "id": "improving-recall",
   "metadata": {},
   "outputs": [],
   "source": [
    "for i in range(NUM_LAYERS):\n",
    "    toolbox.register(f'layer_{i}_type_attribute',\n",
    "                     random.uniform,\n",
    "                     LAYER_TYPE_LOWER,\n",
    "                     LAYER_TYPE_UPPER)\n",
    "    toolbox.register(f'layer_{i}_filters_attribute',\n",
    "                     random.uniform,\n",
    "                     FILTER_LOWER_BOUND,\n",
    "                     FILTER_UPPER_BOUND)\n",
    "    toolbox.register(f'layer_{i}_kernel_attribute',\n",
    "                     random.uniform,\n",
    "                     KERNEL_LOWER_BOUND,\n",
    "                     KERNEL_UPPER_BOUND)\n",
    "    toolbox.register(f'layer_{i}_stride_attribute',\n",
    "                     random.uniform,\n",
    "                     STRIDE_LOWER_BOUND,\n",
    "                     STRIDE_UPPER_BOUND)\n",
    "    for j in range(NUM_SKIP_CONNECTIONS):\n",
    "        toolbox.register(f'layer_{i}_skip_{j}_attribute',\n",
    "                         random.uniform,\n",
    "                         INBOUND_CONN_LOWER_BOUND,\n",
    "                         float(i))"
   ]
  },
  {
   "cell_type": "code",
   "execution_count": null,
   "id": "middle-massachusetts",
   "metadata": {},
   "outputs": [],
   "source": [
    "layer_attributes = ()\n",
    "\n",
    "# create a tuple containing n layer_attribute generator for each layer:\n",
    "layer_size_attributes = ()\n",
    "for i in range(NUM_LAYERS):\n",
    "    layer_attributes = layer_attributes + \\\n",
    "                            (toolbox.__getattribute__(f'layer_{i}_type_attribute'),)\n",
    "    layer_attributes = layer_attributes + \\\n",
    "                            (toolbox.__getattribute__(f'layer_{i}_filters_attribute'),)\n",
    "    layer_attributes = layer_attributes + \\\n",
    "                            (toolbox.__getattribute__(f'layer_{i}_kernel_attribute'),)\n",
    "    layer_attributes = layer_attributes + \\\n",
    "                            (toolbox.__getattribute__(f'layer_{i}_stride_attribute'),)\n",
    "    for j in range(NUM_SKIP_CONNECTIONS):\n",
    "        layer_attributes = layer_attributes + \\\n",
    "                            (toolbox.__getattribute__(f'layer_{i}_skip_{j}_attribute'),)"
   ]
  },
  {
   "cell_type": "markdown",
   "id": "adjustable-spell",
   "metadata": {},
   "source": [
    "* Create the individual operator to full up an individual instance"
   ]
  },
  {
   "cell_type": "code",
   "execution_count": null,
   "id": "strange-corruption",
   "metadata": {},
   "outputs": [],
   "source": [
    "toolbox.register(\"individualCreator\",\n",
    "                 tools.initCycle,\n",
    "                 creator.Individual,\n",
    "                 layer_attributes,\n",
    "                 n=1)\n",
    "\n",
    "toolbox.register(\"populationCreator\",\n",
    "                 tools.initRepeat,\n",
    "                 list,\n",
    "                 toolbox.individualCreator)"
   ]
  },
  {
   "cell_type": "markdown",
   "id": "numeric-alert",
   "metadata": {},
   "source": [
    "* Create model"
   ]
  },
  {
   "cell_type": "code",
   "execution_count": null,
   "id": "graduate-setup",
   "metadata": {},
   "outputs": [],
   "source": [
    "trainer = Trainer(\n",
    "    RANDOM_SEED, \n",
    "    dataset, \n",
    "    output_dir, \n",
    "    num_chromosomes=NUM_CHROMOSOMES, \n",
    "    num_layers=NUM_LAYERS, \n",
    "    layer_types=LAYER_TYPES, \n",
    "    input_shape=input_shape,\n",
    "    output_layer_config=output_layer_config,\n",
    "    merge_type='Concatenate',    # 'Concatenate', 'add',\n",
    "    debug_net_build=True\n",
    ")"
   ]
  },
  {
   "cell_type": "markdown",
   "id": "little-motivation",
   "metadata": {},
   "source": [
    "* Fitness calculation"
   ]
  },
  {
   "cell_type": "code",
   "execution_count": null,
   "id": "roman-fetish",
   "metadata": {},
   "outputs": [],
   "source": [
    "def classificationAccuracy(individual):\n",
    "    return trainer.get_accuracy(individual)\n",
    "\n",
    "toolbox.register(\"evaluate\", classificationAccuracy)"
   ]
  },
  {
   "cell_type": "markdown",
   "id": "literary-advertiser",
   "metadata": {},
   "source": [
    "* Genetic operators\n",
    "\n",
    "TODO: Are these the most appropriate? \n",
    "TODO: Are low and up set correctly? These are the min and max values for all parameters?"
   ]
  },
  {
   "cell_type": "code",
   "execution_count": null,
   "id": "cutting-festival",
   "metadata": {},
   "outputs": [],
   "source": [
    "toolbox.register(\"select\", tools.selTournament, tournsize=2)\n",
    "\n",
    "toolbox.register(\"mate\",\n",
    "                 tools.cxSimulatedBinaryBounded,\n",
    "                 low=BOUNDS_LOW,\n",
    "                 up=BOUNDS_HIGH,\n",
    "                 eta=CROWDING_FACTOR)\n",
    "\n",
    "toolbox.register(\"mutate\",\n",
    "                 tools.mutPolynomialBounded,\n",
    "                 low=BOUNDS_LOW,\n",
    "                 up=BOUNDS_HIGH,\n",
    "                 eta=CROWDING_FACTOR,\n",
    "                 indpb=CallbackProxy(lambda: 2.0 / N_GEN )\n",
    "                )"
   ]
  },
  {
   "cell_type": "markdown",
   "id": "supported-reggae",
   "metadata": {},
   "source": [
    "* Create initial population"
   ]
  },
  {
   "cell_type": "code",
   "execution_count": null,
   "id": "interim-sterling",
   "metadata": {},
   "outputs": [],
   "source": [
    "if checkpoint:\n",
    "    # A file name has been given, then load the data from the file\n",
    "    with open(checkpoint, \"r\") as cp_file:\n",
    "        cp = pickle.load(cp_file)\n",
    "    population = cp[\"population\"]\n",
    "    start_gen = cp[\"generation\"]\n",
    "    halloffame = cp[\"halloffame\"]\n",
    "    logbook = cp[\"logbook\"]\n",
    "    random.setstate(cp[\"rndstate\"])\n",
    "else:\n",
    "    # Start a new evolution\n",
    "    population = toolbox.populationCreator(n=POPULATION_SIZE)\n",
    "    start_gen = 0\n",
    "    hof = tools.HallOfFame(maxsize=HALL_OF_FAME_SIZE)\n",
    "    logbook = tools.Logbook()"
   ]
  },
  {
   "cell_type": "markdown",
   "id": "involved-vault",
   "metadata": {},
   "source": [
    "* Prepare the statistics object"
   ]
  },
  {
   "cell_type": "code",
   "execution_count": null,
   "id": "attended-facility",
   "metadata": {},
   "outputs": [],
   "source": [
    "stats = tools.Statistics(lambda ind: ind.fitness.values)\n",
    "stats.register(\"max\", np.max)\n",
    "stats.register(\"avg\", np.mean)"
   ]
  },
  {
   "cell_type": "markdown",
   "id": "empty-government",
   "metadata": {},
   "source": [
    "* Perform the Genetic Algorithm flow with hof feature added"
   ]
  },
  {
   "cell_type": "code",
   "execution_count": null,
   "id": "cordless-level",
   "metadata": {
    "scrolled": false
   },
   "outputs": [],
   "source": [
    "population, logbook = elitism.eaSimpleWithElitism(population,\n",
    "                                                  toolbox,\n",
    "                                                  cxpb=P_CROSSOVER,\n",
    "                                                  mutpb=P_MUTATION,\n",
    "                                                  ngen=MAX_GENERATIONS,\n",
    "                                                  stats=stats,\n",
    "                                                  halloffame=hof,\n",
    "                                                  log_dir=output_dir,\n",
    "                                                  verbose=True)"
   ]
  },
  {
   "cell_type": "markdown",
   "id": "great-convertible",
   "metadata": {},
   "source": [
    "* Print best solution found"
   ]
  },
  {
   "cell_type": "code",
   "execution_count": null,
   "id": "stuffed-softball",
   "metadata": {},
   "outputs": [],
   "source": [
    "print(f'Best solution is: {trainer.format_params(hof.items[0])}')\n",
    "print(f'Accuracy = {hof.items[0].fitness.values[0]}')"
   ]
  },
  {
   "cell_type": "code",
   "execution_count": null,
   "id": "going-aviation",
   "metadata": {},
   "outputs": [],
   "source": []
  },
  {
   "cell_type": "code",
   "execution_count": null,
   "id": "solved-frequency",
   "metadata": {
    "scrolled": false
   },
   "outputs": [],
   "source": []
  },
  {
   "cell_type": "code",
   "execution_count": null,
   "id": "general-bahrain",
   "metadata": {},
   "outputs": [],
   "source": []
  }
 ],
 "metadata": {
  "kernelspec": {
   "display_name": "Python 3",
   "language": "python",
   "name": "python3"
  },
  "language_info": {
   "codemirror_mode": {
    "name": "ipython",
    "version": 3
   },
   "file_extension": ".py",
   "mimetype": "text/x-python",
   "name": "python",
   "nbconvert_exporter": "python",
   "pygments_lexer": "ipython3",
   "version": "3.8.5"
  }
 },
 "nbformat": 4,
 "nbformat_minor": 5
}
